{
 "cells": [
  {
   "cell_type": "markdown",
   "metadata": {},
   "source": [
    "#### Group: Perceptron\n",
    "#### Contributors: Cruz Jean, Jie Long, Thomas Torku, Paul Myers, Hunter McGee, Ryan Morse\n",
    "#### CSCI 4850 – Neural Networks \n",
    "#### Due: March 24, 2020"
   ]
  },
  {
   "cell_type": "markdown",
   "metadata": {},
   "source": [
    "#### <div style=\"text-align:center; font-size:20pt\">Project Milestone 2"
   ]
  },
  {
   "cell_type": "markdown",
   "metadata": {},
   "source": [
    "| Deliverable  | Percent Complete | Estimated Completion Date | Percent Complete by Next Milestone |\n",
    "|--------------|------------------|---------------------------|------------------------------------|\n",
    "|         Code |              60% |                   Mar. 29 |                               100% |\n",
    "|        Paper |               0% |                   Apr. 30 |                                10% |\n",
    "|         Demo |               0% |                     May 1 |                                 5% |\n",
    "| Presentation |               0% |                     May 6 |                                 5% |\n",
    "| ARIMA (Code) |              50% |                    Apr. 1 |                               100% |\n",
    "| DBN (Code)   |              20% |                    Apr. 1 |                               100% |\n",
    "| Benchmarking (Code) |       10% |                   Mar. 29 |                                40% |\n",
    "| Benchmarking (Paper)|        0% |                    Apr. 1 |                                 0% |"
   ]
  },
  {
   "cell_type": "markdown",
   "metadata": {},
   "source": [
    "1. The DNN, RNN, and LSTM models were completed as anticipated in the last report, and initial testing shows clear indication of DNN outperforming the others.\n",
    "\n",
    "1. The ARIMA and DBN models are still in progress at approximately 50% and 20% respectively. This is due to rescheduling issues arising from the extended Spring break and online-only meetings.\n",
    "\n",
    "1. Hunter McGee and Ryan Morse are tasked with the completion of the DBN model. Jie Long will finish the ARIMA model. Thomas Torku and Cruz Jean will work on more-rigorous statistical analysis of the performance of all models. This includes the creation of a uniform benchmark; the results of which will be used in the Paper to compare the performance of all constructed models. We will also start working on the Paper: Introduction - Thomas and Paul, Background - Ryan and Hunter, Methodology - Cruz and Je long, Results and Discussion - Cruz and Thomas."
   ]
  },
  {
   "cell_type": "code",
   "execution_count": null,
   "metadata": {},
   "outputs": [],
   "source": []
  }
 ],
 "metadata": {
  "kernelspec": {
   "display_name": "Python 3",
   "language": "python",
   "name": "python3"
  },
  "language_info": {
   "codemirror_mode": {
    "name": "ipython",
    "version": 3
   },
   "file_extension": ".py",
   "mimetype": "text/x-python",
   "name": "python",
   "nbconvert_exporter": "python",
   "pygments_lexer": "ipython3",
   "version": "3.6.9"
  }
 },
 "nbformat": 4,
 "nbformat_minor": 4
}
