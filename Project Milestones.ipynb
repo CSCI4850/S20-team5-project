{
 "cells": [
  {
   "cell_type": "markdown",
   "metadata": {},
   "source": [
    "#### Group: Perceptron\n",
    "#### Contributors: Cruz Jean, Jie Long, Thomas Torku, Paul Myers, Hunter McGee, Ryan Morse\n",
    "#### CSCI 4850 – Neural Networks \n",
    "#### Due: April 14, 2020"
   ]
  },
  {
   "cell_type": "markdown",
   "metadata": {},
   "source": [
    "#### <div style=\"text-align:center; font-size:20pt\">Project Milestone 2"
   ]
  },
  {
   "cell_type": "markdown",
   "metadata": {},
   "source": [
    "| Deliverable  | Percent Complete | Estimated Completion Date | Percent Complete by Next Milestone |\n",
    "|--------------|------------------|---------------------------|------------------------------------|\n",
    "|         Code |              60% |                    Apr. 1 |                               100% |\n",
    "|        Paper |               0% |                   Apr. 23 |                                10% |\n",
    "|         Demo |               0% |                     May 1 |                                 5% |\n",
    "| Presentation |               0% |                     May 6 |                                 5% |\n",
    "| ARIMA (Code) |              50% |                   Mar. 29 |                               100% |\n",
    "| DBN (Code)   |              20% |                   Mar. 29 |                               100% |\n",
    "| Benchmarking (Code) |       10% |                    Apr. 1 |                                40% |\n",
    "| Benchmarking (Paper)|        0% |                    Apr. 1 |                                 0% |"
   ]
  },
  {
   "cell_type": "markdown",
   "metadata": {},
   "source": [
    "1. The DNN, RNN, and LSTM models were completed as anticipated in the last report, and initial testing shows clear indication of DNN outperforming the others.\n",
    "\n",
    "1. The ARIMA and DBN models are still in progress at approximately 50% and 20% respectively. This is due to rescheduling issues arising from the extended Spring break and online-only meetings.\n",
    "\n",
    "1. Hunter McGee and Ryan Morse are tasked with the completion of the DBN model. Jie Long will finish the ARIMA model. Thomas Torku and Cruz Jean will work on more-rigorous statistical analysis of the performance of all models. This includes the creation of a uniform benchmark; the results of which will be used in the Paper to compare the performance of all constructed models. We will also start working on the Paper: Introduction - Thomas and Paul, Background - Ryan and Hunter, Methodology - Cruz and Je long, Results and Discussion - Cruz and Thomas."
   ]
  },
  {
   "cell_type": "markdown",
   "metadata": {},
   "source": [
    "#### <div style=\"text-align:center; font-size:20pt\">Project Milestone 3"
   ]
  },
  {
   "cell_type": "markdown",
   "metadata": {},
   "source": [
    "| Deliverable  | Percent Complete | Estimated Completion Date | Percent Complete by Next Milestone |\n",
    "|--------------|------------------|---------------------------|------------------------------------|\n",
    "|         Code |              85% |                    Apr. 7 |                               100% |\n",
    "|        Paper |              10% |                   Apr. 23 |                               100% |\n",
    "|         Demo |               0% |                     May 1 |                                 5% |\n",
    "| Presentation |               0% |                     May 6 |                                 5% |\n",
    "| ARIMA (Code) |              70% |                   Mar. 29 |                               100% |\n",
    "| Merge Code   |              10% |                   Mar.  7 |                               100% |\n",
    "| Benchmarking (Code) |       40% |                   Apr. 23 |                               100% |\n",
    "| Benchmarking (Paper)|        0% |                   Apr. 23 |                               100% |"
   ]
  },
  {
   "cell_type": "markdown",
   "metadata": {},
   "source": [
    "1. The DBN model was completed as anticipated in the last report. Early results show promising signs of being the best preforming iteration out of the complete models. \n",
    "\n",
    "1. The ARIMA model is producing results that merely need fine tuning.\n",
    "\n",
    "1. Thomas Torku and Jie Long will begin running model itterations using data from the GSPC price index. Cruz Jean will begin work on a tool to undo the normalization process on numerical data and perform statistical analysis on the true predicted values. The main focus for our next milestone will revolve around building the project paper; tasking stands as-is from the previous milestone report."
   ]
  },
  {
   "cell_type": "markdown",
   "metadata": {},
   "source": [
    "#### <div style=\"text-align:center; font-size:20pt\">Project Milestone 4"
   ]
  },
  {
   "cell_type": "markdown",
   "metadata": {},
   "source": [
    "| Deliverable  | Percent Complete | Estimated Completion Date | Percent Complete by Next Milestone |\n",
    "|--------------|------------------|---------------------------|------------------------------------|\n",
    "|         Code |              95% |                    Apr. 7 |                               100% |\n",
    "|        Paper |              25% |                   Apr. 23 |                               100% |\n",
    "|         Demo |               0% |                     May 1 |                                10% |\n",
    "| Presentation |               0% |                     May 6 |                                10% |\n",
    "| ARIMA (Code) |              80% |                   Mar. 29 |                               100% |\n",
    "| Merge Code   |             100% |                   Mar.  7 |                               100% |\n",
    "| Benchmarking (Code) |      100% |                   Apr. 23 |                               100% |\n",
    "| Benchmarking (Paper)|       30% |                   Apr. 23 |                               100% |"
   ]
  },
  {
   "cell_type": "markdown",
   "metadata": {},
   "source": [
    "1. All the code for all models aside from the ARIMA model has been completed as planned. The code portion of benchmarking has been completed, but the actual benchmarking data has not been collected for all models.\n",
    "\n",
    "1. The ARIMA model is slightly behind the other models in terms of scheduling, but will be completed by the next milestone. Due to focusing on other issues for finishing up code and benchmarking, the paper was not completed to the level anticipated by the last update, but will also be finished up quickly once benchmarking results are in.\n",
    "\n",
    "1. Jie Long will work on finishing up the last model: ARIMA. Everyone will add to the paper for covering their respective contributions (i.e. models, data, benchmarking, etc.). Once the paper is completed we will also all work together for constructing the presentation/demo."
   ]
  },
  {
   "cell_type": "code",
   "execution_count": null,
   "metadata": {},
   "outputs": [],
   "source": []
  }
 ],
 "metadata": {
  "kernelspec": {
   "display_name": "Python 3",
   "language": "python",
   "name": "python3"
  },
  "language_info": {
   "codemirror_mode": {
    "name": "ipython",
    "version": 3
   },
   "file_extension": ".py",
   "mimetype": "text/x-python",
   "name": "python",
   "nbconvert_exporter": "python",
   "pygments_lexer": "ipython3",
   "version": "3.6.9"
  }
 },
 "nbformat": 4,
 "nbformat_minor": 4
}
