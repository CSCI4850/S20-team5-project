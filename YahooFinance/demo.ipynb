{
 "cells": [
  {
   "cell_type": "markdown",
   "metadata": {},
   "source": [
    "# Yahoo Finance API Demo"
   ]
  },
  {
   "cell_type": "markdown",
   "metadata": {},
   "source": [
    "Before you run any of these, you need the following python libraries installed:\n",
    "1. `yfinance` - the Yahoo Finance python API\n",
    "2. `lxml` - used by `yfinance` for handling xml data"
   ]
  },
  {
   "cell_type": "code",
   "execution_count": null,
   "metadata": {},
   "outputs": [],
   "source": [
    "import yfinance as yf\n",
    "import numpy as np\n",
    "import matplotlib.pyplot as plt\n",
    "%matplotlib inline"
   ]
  },
  {
   "cell_type": "code",
   "execution_count": null,
   "metadata": {},
   "outputs": [],
   "source": [
    "stock = yf.Ticker(\"MSFT\")\n",
    "stock.info"
   ]
  },
  {
   "cell_type": "code",
   "execution_count": null,
   "metadata": {},
   "outputs": [],
   "source": [
    "# for fetching the data, we can do period with max to get ALL the data they have\n",
    "# or we can do start/end intervals (used here for readable graphs)\n",
    "\n",
    "#history = stock.history(period='max')\n",
    "history = stock.history(start='2010-01-01', end='2015-01-01') \n",
    "history"
   ]
  },
  {
   "cell_type": "code",
   "execution_count": null,
   "metadata": {},
   "outputs": [],
   "source": [
    "# separate all the data that we want\n",
    "open_dat = np.array(history['Open'])\n",
    "close_dat = np.array(history['Close'])\n",
    "high_dat = np.array(history['High'])\n",
    "low_dat = np.array(history['Low'])\n",
    "volume_dat = np.array(history['Volume'])"
   ]
  },
  {
   "cell_type": "code",
   "execution_count": null,
   "metadata": {},
   "outputs": [],
   "source": [
    "# normalize values\n",
    "open_norm = open_dat / open_dat[0]\n",
    "close_norm = close_dat / open_dat[0]\n",
    "high_norm = high_dat / open_dat[0]\n",
    "low_norm = low_dat / open_dat[0]\n",
    "volume_norm = volume_dat / volume_dat[0]"
   ]
  },
  {
   "cell_type": "code",
   "execution_count": null,
   "metadata": {},
   "outputs": [],
   "source": [
    "fig, (ax1, ax2) = plt.subplots(2, 1, sharex=True, squeeze=True)\n",
    "fig.subplots_adjust(hspace=0)\n",
    "ax1.title.set_text('normalized stock data')\n",
    "\n",
    "ax1.plot(open_norm, label='open')\n",
    "ax1.plot(close_norm, label='close')\n",
    "ax1.plot(high_norm, label='high')\n",
    "ax1.plot(low_norm, label='low')\n",
    "ax1.legend()\n",
    "\n",
    "ax2.plot(volume_norm, label='volume')\n",
    "ax2.legend()\n",
    "\n",
    "print()"
   ]
  },
  {
   "cell_type": "code",
   "execution_count": null,
   "metadata": {},
   "outputs": [],
   "source": [
    "open_diff = np.array([(open_dat[i]-open_dat[i-1])/open_dat[i-1] for i in range(1, len(open_dat))])\n",
    "close_diff = np.array([(close_dat[i]-close_dat[i-1])/close_dat[i-1] for i in range(1, len(close_dat))])\n",
    "high_diff = np.array([(high_dat[i]-high_dat[i-1])/high_dat[i-1] for i in range(1, len(high_dat))])\n",
    "low_diff = np.array([(low_dat[i]-low_dat[i-1])/low_dat[i-1] for i in range(1, len(low_dat))])\n",
    "volume_diff = np.array([(volume_dat[i]-volume_dat[i-1])/volume_dat[i-1] for i in range(1, len(volume_dat))])"
   ]
  },
  {
   "cell_type": "code",
   "execution_count": null,
   "metadata": {},
   "outputs": [],
   "source": [
    "fig, (ax1, ax2) = plt.subplots(2, 1, sharex=True, squeeze=True)\n",
    "fig.subplots_adjust(hspace=0)\n",
    "ax1.title.set_text('step-wise percent changes')\n",
    "\n",
    "ax1.plot(open_diff, label='open')\n",
    "ax1.plot(close_diff, label='close')\n",
    "ax1.plot(high_diff, label='high')\n",
    "ax1.plot(low_diff, label='low')\n",
    "ax1.legend()\n",
    "\n",
    "ax2.plot(volume_diff, label='volume')\n",
    "ax2.legend()\n",
    "\n",
    "print()"
   ]
  },
  {
   "cell_type": "markdown",
   "metadata": {},
   "source": [
    "As you can see, we can do all of the same types of things with `yfinance` as with the AlphaVantage demo.\n",
    "The benefit of this is that it's a much more powerful (and not to mention faster) api and allows us to go further back in history, as well as fetch specific intervals to draw from."
   ]
  },
  {
   "cell_type": "code",
   "execution_count": null,
   "metadata": {},
   "outputs": [],
   "source": []
  }
 ],
 "metadata": {
  "kernelspec": {
   "display_name": "Python 3",
   "language": "python",
   "name": "python3"
  },
  "language_info": {
   "codemirror_mode": {
    "name": "ipython",
    "version": 3
   },
   "file_extension": ".py",
   "mimetype": "text/x-python",
   "name": "python",
   "nbconvert_exporter": "python",
   "pygments_lexer": "ipython3",
   "version": "3.6.9"
  }
 },
 "nbformat": 4,
 "nbformat_minor": 4
}
