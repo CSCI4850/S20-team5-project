{
 "cells": [
  {
   "cell_type": "markdown",
   "metadata": {},
   "source": [
    "# Deep Belief Network\n",
    "By Hunter McGee & Ryan Morse\n",
    "\n",
    "*Using yfinance from Cruz Jean for loading data and preprocessing.*\n",
    "\n",
    "*DBN model and inspiration from: https://github.com/albertbup/deep-belief-network*\n"
   ]
  },
  {
   "cell_type": "code",
   "execution_count": 98,
   "metadata": {},
   "outputs": [],
   "source": [
    "import keras\n",
    "import numpy as np\n",
    "import yfinance as yf\n",
    "import matplotlib.pyplot as plt\n",
    "import pandas as pd\n",
    "%matplotlib inline"
   ]
  },
  {
   "cell_type": "code",
   "execution_count": 99,
   "metadata": {},
   "outputs": [],
   "source": [
    "def getstock(name):\n",
    "    t = yf.Ticker(name)\n",
    "    dat = t.history(period='max')\n",
    "    return np.array(dat['Open'][-3800:])"
   ]
  },
  {
   "cell_type": "code",
   "execution_count": 100,
   "metadata": {},
   "outputs": [],
   "source": [
    "stocks = ['PFE','DIS','VZ','PG','ADBE','INTC','AAPL','MSFT','GOOG']\n",
    "choice = 4 #index of stock to use"
   ]
  },
  {
   "cell_type": "code",
   "execution_count": 101,
   "metadata": {},
   "outputs": [
    {
     "data": {
      "text/html": [
       "<div>\n",
       "<style scoped>\n",
       "    .dataframe tbody tr th:only-of-type {\n",
       "        vertical-align: middle;\n",
       "    }\n",
       "\n",
       "    .dataframe tbody tr th {\n",
       "        vertical-align: top;\n",
       "    }\n",
       "\n",
       "    .dataframe thead th {\n",
       "        text-align: right;\n",
       "    }\n",
       "</style>\n",
       "<table border=\"1\" class=\"dataframe\">\n",
       "  <thead>\n",
       "    <tr style=\"text-align: right;\">\n",
       "      <th></th>\n",
       "      <th>Open</th>\n",
       "      <th>High</th>\n",
       "      <th>Low</th>\n",
       "      <th>Close</th>\n",
       "      <th>Volume</th>\n",
       "      <th>Dividends</th>\n",
       "      <th>Stock Splits</th>\n",
       "    </tr>\n",
       "    <tr>\n",
       "      <th>Date</th>\n",
       "      <th></th>\n",
       "      <th></th>\n",
       "      <th></th>\n",
       "      <th></th>\n",
       "      <th></th>\n",
       "      <th></th>\n",
       "      <th></th>\n",
       "    </tr>\n",
       "  </thead>\n",
       "  <tbody>\n",
       "    <tr>\n",
       "      <th>1986-08-13</th>\n",
       "      <td>0.00</td>\n",
       "      <td>0.16</td>\n",
       "      <td>0.15</td>\n",
       "      <td>0.15</td>\n",
       "      <td>18899200</td>\n",
       "      <td>0.0</td>\n",
       "      <td>0.0</td>\n",
       "    </tr>\n",
       "    <tr>\n",
       "      <th>1986-08-14</th>\n",
       "      <td>0.00</td>\n",
       "      <td>0.17</td>\n",
       "      <td>0.16</td>\n",
       "      <td>0.16</td>\n",
       "      <td>4160000</td>\n",
       "      <td>0.0</td>\n",
       "      <td>0.0</td>\n",
       "    </tr>\n",
       "    <tr>\n",
       "      <th>1986-08-15</th>\n",
       "      <td>0.00</td>\n",
       "      <td>0.16</td>\n",
       "      <td>0.16</td>\n",
       "      <td>0.16</td>\n",
       "      <td>4332800</td>\n",
       "      <td>0.0</td>\n",
       "      <td>0.0</td>\n",
       "    </tr>\n",
       "    <tr>\n",
       "      <th>1986-08-18</th>\n",
       "      <td>0.00</td>\n",
       "      <td>0.16</td>\n",
       "      <td>0.15</td>\n",
       "      <td>0.15</td>\n",
       "      <td>2828800</td>\n",
       "      <td>0.0</td>\n",
       "      <td>0.0</td>\n",
       "    </tr>\n",
       "    <tr>\n",
       "      <th>1986-08-19</th>\n",
       "      <td>0.00</td>\n",
       "      <td>0.16</td>\n",
       "      <td>0.16</td>\n",
       "      <td>0.16</td>\n",
       "      <td>2060800</td>\n",
       "      <td>0.0</td>\n",
       "      <td>0.0</td>\n",
       "    </tr>\n",
       "    <tr>\n",
       "      <th>...</th>\n",
       "      <td>...</td>\n",
       "      <td>...</td>\n",
       "      <td>...</td>\n",
       "      <td>...</td>\n",
       "      <td>...</td>\n",
       "      <td>...</td>\n",
       "      <td>...</td>\n",
       "    </tr>\n",
       "    <tr>\n",
       "      <th>2020-03-25</th>\n",
       "      <td>308.00</td>\n",
       "      <td>317.65</td>\n",
       "      <td>298.13</td>\n",
       "      <td>305.91</td>\n",
       "      <td>4830400</td>\n",
       "      <td>0.0</td>\n",
       "      <td>0.0</td>\n",
       "    </tr>\n",
       "    <tr>\n",
       "      <th>2020-03-26</th>\n",
       "      <td>305.99</td>\n",
       "      <td>324.43</td>\n",
       "      <td>305.69</td>\n",
       "      <td>322.67</td>\n",
       "      <td>4531000</td>\n",
       "      <td>0.0</td>\n",
       "      <td>0.0</td>\n",
       "    </tr>\n",
       "    <tr>\n",
       "      <th>2020-03-27</th>\n",
       "      <td>311.70</td>\n",
       "      <td>314.29</td>\n",
       "      <td>300.63</td>\n",
       "      <td>305.83</td>\n",
       "      <td>4862100</td>\n",
       "      <td>0.0</td>\n",
       "      <td>0.0</td>\n",
       "    </tr>\n",
       "    <tr>\n",
       "      <th>2020-03-30</th>\n",
       "      <td>308.89</td>\n",
       "      <td>322.97</td>\n",
       "      <td>308.01</td>\n",
       "      <td>318.39</td>\n",
       "      <td>4340200</td>\n",
       "      <td>0.0</td>\n",
       "      <td>0.0</td>\n",
       "    </tr>\n",
       "    <tr>\n",
       "      <th>2020-03-31</th>\n",
       "      <td>316.41</td>\n",
       "      <td>326.33</td>\n",
       "      <td>312.68</td>\n",
       "      <td>318.24</td>\n",
       "      <td>4191983</td>\n",
       "      <td>0.0</td>\n",
       "      <td>0.0</td>\n",
       "    </tr>\n",
       "  </tbody>\n",
       "</table>\n",
       "<p>8477 rows × 7 columns</p>\n",
       "</div>"
      ],
      "text/plain": [
       "              Open    High     Low   Close    Volume  Dividends  Stock Splits\n",
       "Date                                                                         \n",
       "1986-08-13    0.00    0.16    0.15    0.15  18899200        0.0           0.0\n",
       "1986-08-14    0.00    0.17    0.16    0.16   4160000        0.0           0.0\n",
       "1986-08-15    0.00    0.16    0.16    0.16   4332800        0.0           0.0\n",
       "1986-08-18    0.00    0.16    0.15    0.15   2828800        0.0           0.0\n",
       "1986-08-19    0.00    0.16    0.16    0.16   2060800        0.0           0.0\n",
       "...            ...     ...     ...     ...       ...        ...           ...\n",
       "2020-03-25  308.00  317.65  298.13  305.91   4830400        0.0           0.0\n",
       "2020-03-26  305.99  324.43  305.69  322.67   4531000        0.0           0.0\n",
       "2020-03-27  311.70  314.29  300.63  305.83   4862100        0.0           0.0\n",
       "2020-03-30  308.89  322.97  308.01  318.39   4340200        0.0           0.0\n",
       "2020-03-31  316.41  326.33  312.68  318.24   4191983        0.0           0.0\n",
       "\n",
       "[8477 rows x 7 columns]"
      ]
     },
     "execution_count": 101,
     "metadata": {},
     "output_type": "execute_result"
    }
   ],
   "source": [
    "yf.Ticker(stocks[choice]).history(period='max')"
   ]
  },
  {
   "cell_type": "code",
   "execution_count": 102,
   "metadata": {},
   "outputs": [],
   "source": [
    "# Grab full data set for stock\n",
    "data = np.array([getstock(stocks[choice])])\n"
   ]
  },
  {
   "cell_type": "code",
   "execution_count": 103,
   "metadata": {},
   "outputs": [],
   "source": [
    "window_width = 128"
   ]
  },
  {
   "cell_type": "code",
   "execution_count": 104,
   "metadata": {},
   "outputs": [
    {
     "data": {
      "text/plain": [
       "(3671, 1)"
      ]
     },
     "execution_count": 104,
     "metadata": {},
     "output_type": "execute_result"
    }
   ],
   "source": [
    "norm_factor_prices = np.array([data[:,i] for i in range(data.shape[1] - window_width-1)])\n",
    "norm_factor_prices.shape\n"
   ]
  },
  {
   "cell_type": "code",
   "execution_count": 105,
   "metadata": {},
   "outputs": [
    {
     "data": {
      "text/plain": [
       "(3671, 1, 128)"
      ]
     },
     "execution_count": 105,
     "metadata": {},
     "output_type": "execute_result"
    }
   ],
   "source": [
    "x = np.array([data[:,i:i+window_width] / data[:,i,None] for i in range(data.shape[1] - window_width - 1)])\n",
    "x.shape"
   ]
  },
  {
   "cell_type": "code",
   "execution_count": 106,
   "metadata": {},
   "outputs": [
    {
     "data": {
      "text/plain": [
       "(3671, 128)"
      ]
     },
     "execution_count": 106,
     "metadata": {},
     "output_type": "execute_result"
    }
   ],
   "source": [
    "# drop middle dimension\n",
    "x_new= x[:,0,:]\n",
    "x_new.shape"
   ]
  },
  {
   "cell_type": "code",
   "execution_count": 107,
   "metadata": {},
   "outputs": [
    {
     "data": {
      "text/plain": [
       "array([[[1.        , 1.00097624, 1.00943703, ..., 0.87796941,\n",
       "         0.90855841, 0.89424016]],\n",
       "\n",
       "       [[1.        , 1.00845254, 1.00682705, ..., 0.9076723 ,\n",
       "         0.89336801, 0.88654096]],\n",
       "\n",
       "       [[1.        , 0.99838814, 1.00676983, ..., 0.88588008,\n",
       "         0.87911025, 0.87814313]],\n",
       "\n",
       "       ...,\n",
       "\n",
       "       [[1.        , 1.01322799, 0.98539485, ..., 1.07516399,\n",
       "         1.17044178, 1.11622513]],\n",
       "\n",
       "       [[1.        , 0.97253022, 0.99599399, ..., 1.15516131,\n",
       "         1.10165248, 1.09446312]],\n",
       "\n",
       "       [[1.        , 1.02412652, 1.04681868, ..., 1.1327694 ,\n",
       "         1.12537698, 1.14637734]]])"
      ]
     },
     "execution_count": 107,
     "metadata": {},
     "output_type": "execute_result"
    }
   ],
   "source": [
    "# Notice that the windows are normalized according to the first day of the window.\n",
    "# That means that each data point shows the change relative to that first day.\n",
    "x"
   ]
  },
  {
   "cell_type": "code",
   "execution_count": 108,
   "metadata": {},
   "outputs": [
    {
     "data": {
      "text/plain": [
       "(3671, 1)"
      ]
     },
     "execution_count": 108,
     "metadata": {},
     "output_type": "execute_result"
    }
   ],
   "source": [
    "y = np.array([data[:,i+window_width] / data[:,i] for i in range(data.shape[1] - window_width-1)])\n",
    "y = y[:,:]\n",
    "y.shape\n"
   ]
  },
  {
   "cell_type": "markdown",
   "metadata": {},
   "source": [
    "### Deep Belief Network"
   ]
  },
  {
   "cell_type": "code",
   "execution_count": 109,
   "metadata": {},
   "outputs": [],
   "source": [
    "#from sklearn.neural_network import BernoulliRBM # for Restricted Boltzmann Machine units\n",
    "\n",
    "\n",
    "from dbn import SupervisedDBNRegression"
   ]
  },
  {
   "cell_type": "code",
   "execution_count": 110,
   "metadata": {},
   "outputs": [],
   "source": [
    "from sklearn.model_selection import train_test_split\n",
    "x_train, x_test, y_train, y_test = train_test_split(x_new, y, test_size=0.10)"
   ]
  },
  {
   "cell_type": "code",
   "execution_count": 111,
   "metadata": {},
   "outputs": [
    {
     "data": {
      "text/plain": [
       "(368, 128)"
      ]
     },
     "execution_count": 111,
     "metadata": {},
     "output_type": "execute_result"
    }
   ],
   "source": [
    "x_test.shape"
   ]
  },
  {
   "cell_type": "markdown",
   "metadata": {},
   "source": [
    "### Train Model\n",
    "If you notice RBM error or ANN loss not updating much between epochs, then retrain. (seems to be a gradient issue?)"
   ]
  },
  {
   "cell_type": "code",
   "execution_count": 112,
   "metadata": {},
   "outputs": [
    {
     "name": "stdout",
     "output_type": "stream",
     "text": [
      "[START] Pre-training step:\n",
      ">> Epoch 1 finished \tRBM Reconstruction error 5651.790236\n",
      ">> Epoch 2 finished \tRBM Reconstruction error 1621.566099\n",
      ">> Epoch 3 finished \tRBM Reconstruction error 399.435829\n",
      ">> Epoch 4 finished \tRBM Reconstruction error 2109.874647\n",
      ">> Epoch 5 finished \tRBM Reconstruction error 5681.546445\n",
      ">> Epoch 6 finished \tRBM Reconstruction error 90.572058\n",
      ">> Epoch 7 finished \tRBM Reconstruction error 2317.340481\n",
      ">> Epoch 8 finished \tRBM Reconstruction error 121.291219\n",
      ">> Epoch 9 finished \tRBM Reconstruction error 2220.626763\n",
      ">> Epoch 10 finished \tRBM Reconstruction error 524.676712\n",
      ">> Epoch 11 finished \tRBM Reconstruction error 684.411520\n",
      ">> Epoch 12 finished \tRBM Reconstruction error 189.307384\n",
      "[END] Pre-training step\n",
      "[START] Fine tuning step:\n",
      ">> Epoch 1 finished \tANN training loss 0.028398\n",
      ">> Epoch 2 finished \tANN training loss 0.015501\n",
      ">> Epoch 3 finished \tANN training loss 0.013691\n",
      ">> Epoch 4 finished \tANN training loss 0.012142\n",
      ">> Epoch 5 finished \tANN training loss 0.011165\n",
      ">> Epoch 6 finished \tANN training loss 0.010370\n",
      ">> Epoch 7 finished \tANN training loss 0.009823\n",
      ">> Epoch 8 finished \tANN training loss 0.009446\n",
      ">> Epoch 9 finished \tANN training loss 0.008969\n",
      ">> Epoch 10 finished \tANN training loss 0.008902\n",
      "[END] Fine tuning step\n"
     ]
    },
    {
     "data": {
      "text/plain": [
       "SupervisedDBNRegression()"
      ]
     },
     "execution_count": 112,
     "metadata": {},
     "output_type": "execute_result"
    }
   ],
   "source": [
    "# Train Model\n",
    "model = SupervisedDBNRegression(hidden_layers_structure=[128],\n",
    "                               learning_rate_rbm=0.015,\n",
    "                               learning_rate=0.010,\n",
    "                               n_epochs_rbm=12,\n",
    "                               n_iter_backprop=10,\n",
    "                               batch_size=8,\n",
    "                               activation_function='relu')\n",
    "\n",
    "model.fit(x_train, y_train)\n",
    "\n",
    "# If you notice RBM error or ANN loss not updating much between epochs,\n",
    "# then retrain. (seems to be a gradient issue?)\n"
   ]
  },
  {
   "cell_type": "markdown",
   "metadata": {},
   "source": [
    "### Test and RMSE\n",
    "Uncomment print line in for loop to see predictions at each time step"
   ]
  },
  {
   "cell_type": "code",
   "execution_count": 114,
   "metadata": {},
   "outputs": [
    {
     "name": "stdout",
     "output_type": "stream",
     "text": [
      "RMSE:  [[0.08178752]]\n"
     ]
    }
   ],
   "source": [
    "# TEST SET ERROR\n",
    "# Uncomment print line in for loop to see predictions\n",
    "# at each time step\n",
    "sum_squares = 0\n",
    "for i in range(0,y_test.shape[0]):\n",
    "    y_pred = model.predict(x_test[i,:])\n",
    "    sum_squares += np.power(np.abs(y_pred - y_test[i]),2)\n",
    "    #print('Predicted -> \\t', y_pred, y_test[i],'\\t<- Expected')\n",
    "\n",
    "\n",
    "rmse = np.sqrt(sum_squares / y_test.shape[0])\n",
    "print(\"RMSE: \", rmse)"
   ]
  }
 ],
 "metadata": {
  "kernelspec": {
   "display_name": "Python 3",
   "language": "python",
   "name": "python3"
  },
  "language_info": {
   "codemirror_mode": {
    "name": "ipython",
    "version": 3
   },
   "file_extension": ".py",
   "mimetype": "text/x-python",
   "name": "python",
   "nbconvert_exporter": "python",
   "pygments_lexer": "ipython3",
   "version": "3.7.6"
  }
 },
 "nbformat": 4,
 "nbformat_minor": 4
}
