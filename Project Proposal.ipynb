{
 "cells": [
  {
   "cell_type": "markdown",
   "metadata": {},
   "source": [
    "#### Group: Perceptron\n",
    "#### Contributors: Ryan Morse, Cruz Jean, Hunter McGee, Jie Long, Paul Myers, Thomas Torku\n",
    "#### CSCI 4850 – Neural Networks\n",
    "#### Due: Feb. 27, 2020"
   ]
  },
  {
   "cell_type": "markdown",
   "metadata": {},
   "source": [
    "#### <div style=\"text-align:center\">Project Proposal: Time Series Forecasting of Financial Markets"
   ]
  },
  {
   "cell_type": "markdown",
   "metadata": {},
   "source": [
    "    Time series forecasting isn’t new and has an extraordinary range of applications. It allows us to see data in a way that humans do naturally, along the axis of time. While this can be achieved algorithmically, it’s been found that neural networks provide a significant improvement to such methods in terms of accuracy and efficiency. To the end of demonstrating this, our first main goal will be constructing price prediction models for the S&P 500 market index using multiple designs. We will measure the over-all accuracy of the individual models by weighing the individual accuracy of each prediction within a specified confidence interval for the same. Then these accuracy measurements can be compared between the algorithmic approach to the neural network models. The intention is not only to display how much this technology has improved over time, but also to create an accurate and useful product. The technologies intended for use in these designs include: Auto Regressive Integrated Moving Average (ARIMA), Recurrent Neural Network (RNN) (Long Short Term Memory(LSTM)), Deep Neural Network (DNN), Convolutional Neural Network (CNN), and Deep Belief Network (DBN). Data on securities movements within financial markets is generally made available in easily accessed formats for free. The format used by Yahoo Finance appears to be the easiest to format for this goal. Multiple implementations of this model are currently in consideration. One idea put forward is a model that produces a daily output of open and or closing price predictions. Another that was proposed would produce a continuous output from market open to close of hourly price predictions. Verification of this first goal appears relatively simple. Predictions can be graphed alongside real-world data, and generality could be tested by applying the model to multiple individual securities. "
   ]
  },
  {
   "cell_type": "markdown",
   "metadata": {},
   "source": [
    "    A secondary major goal has also been proposed to create a buy/sell/hold classifier. This would maximize for profit over a set timeframe, given a particular security by determining whether to buy more, hold, or sell some portion of stake in it. The considerations necessary to obtain a reasonable degree of accuracy in this are numerous and non-obvious. Currently our intended data source for this portion of the project is Alpha Vantage, which is a website that provides free API’s for real-time and historical stock market data. A possible implementation of this model would be a projection of how much stake should be held at different time intervals from weeks to months to years as to maximize returns. It has been noted that at some point a long-term neural network model outlook would differ little from that of an algorithmic one."
   ]
  },
  {
   "cell_type": "markdown",
   "metadata": {},
   "source": [
    "    As mentioned previously, the data necessary for these models is easily accessible. We chose the S&P 500 as our first security to train with due to its inherent stability, its properties as a widely used mesurement for overall market health, and an availability of accurate data going back decades. The Yahoo Finance webpage provides this information in a conveniently formatted Microsoft Excel page, with vectors for date, open/close price, high/low price, and volume moved by rows representing single days."
   ]
  },
  {
   "cell_type": "code",
   "execution_count": null,
   "metadata": {},
   "outputs": [],
   "source": []
  }
 ],
 "metadata": {
  "kernelspec": {
   "display_name": "Python 3",
   "language": "python",
   "name": "python3"
  },
  "language_info": {
   "codemirror_mode": {
    "name": "ipython",
    "version": 3
   },
   "file_extension": ".py",
   "mimetype": "text/x-python",
   "name": "python",
   "nbconvert_exporter": "python",
   "pygments_lexer": "ipython3",
   "version": "3.7.6"
  }
 },
 "nbformat": 4,
 "nbformat_minor": 4
}
