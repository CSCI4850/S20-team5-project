{
 "cells": [
  {
   "cell_type": "markdown",
   "metadata": {},
   "source": [
    "#### By Thomas Torku based on yahoo finance"
   ]
  },
  {
   "cell_type": "code",
   "execution_count": 2,
   "metadata": {},
   "outputs": [],
   "source": [
    "import keras\n",
    "import tensorflow as tf\n",
    "import numpy as np\n",
    "import yfinance as yf\n",
    "import matplotlib.pyplot as plt\n",
    "%matplotlib inline\n",
    "from matplotlib.pylab import rcParams\n",
    "rcParams['figure.figsize'] =6,6\n",
    "from datetime import datetime"
   ]
  },
  {
   "cell_type": "markdown",
   "metadata": {},
   "source": [
    "#### Grab the data"
   ]
  },
  {
   "cell_type": "code",
   "execution_count": 3,
   "metadata": {},
   "outputs": [],
   "source": [
    "'''\n",
    "Cruz Jean - bench.py\n",
    "this module can be included in each model to fetch data, normalize,\n",
    "and compute performance metrics in a uniform way for comparison.\n",
    "'''\n",
    "def getstock(name):\n",
    "    '''\n",
    "    gets the open prices for the given stock in studied range\n",
    "    '''\n",
    "    t = yf.Ticker(name)\n",
    "    dat = t.history(start='1995-01-01', end='2020-03-01')\n",
    "    return np.array(dat['Open'])[-3900:]\n",
    "def getstocks(names):\n",
    "    '''\n",
    "    gets the open price info for all specified stocks in studied range\n",
    "    '''\n",
    "    return np.array([getstock(name) for name in names])\n",
    "\n",
    "def normalize(dat, window_width, predict_dist):\n",
    "    '''\n",
    "    given a collection of stocks from getstocks(), prepares data for training.\n",
    "    window_width is the number of data points for input.\n",
    "    predict_dist is distance into future of prediction (e.g. 1 would be predict next value after input window).\n",
    "    returns (input, expect, norm_scale)\n",
    "    '''\n",
    "    count = dat.shape[1] - window_width - predict_dist + 1\n",
    "    x = np.array([dat[:,i:i+window_width]/dat[:,i,None] for i in range(count)])\n",
    "    y = np.array([dat[:,i+window_width+predict_dist-1]/dat[:,i] for i in range(count)])\n",
    "    s = dat[:,0:count]\n",
    "    return x, y, s\n"
   ]
  },
  {
   "cell_type": "code",
   "execution_count": null,
   "metadata": {},
   "outputs": [],
   "source": []
  }
 ],
 "metadata": {
  "kernelspec": {
   "display_name": "Python 3",
   "language": "python",
   "name": "python3"
  },
  "language_info": {
   "codemirror_mode": {
    "name": "ipython",
    "version": 3
   },
   "file_extension": ".py",
   "mimetype": "text/x-python",
   "name": "python",
   "nbconvert_exporter": "python",
   "pygments_lexer": "ipython3",
   "version": "3.7.6"
  }
 },
 "nbformat": 4,
 "nbformat_minor": 4
}
